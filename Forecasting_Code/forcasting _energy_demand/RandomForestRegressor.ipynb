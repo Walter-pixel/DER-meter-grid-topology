{
 "cells": [
  {
   "cell_type": "code",
   "execution_count": 42,
   "metadata": {},
   "outputs": [],
   "source": [
    "# Data manipulation, refer: https://cienciadedatos.net/documentos/py29-forecasting-electricity-power-demand-python\n",
    "# ==============================================================================\n",
    "import numpy as np\n",
    "import pandas as pd\n",
    "# from astral.sun import sun\n",
    "# from astral import LocationInfo\n",
    "from skforecast.datasets import fetch_dataset\n",
    "\n",
    "# Plots\n",
    "# ==============================================================================\n",
    "import matplotlib.pyplot as plt\n",
    "\n",
    "\n",
    "\n"
   ]
  },
  {
   "cell_type": "markdown",
   "metadata": {},
   "source": [
    "## This notebook use \"Demand\" and \"Temperature\", \"Holiday\" 3 features for prediction.\n",
    "- We DO NOT rescale/normalize based on training dataset\n",
    "\n",
    "## Refer to: https://cienciadedatos.net/documentos/py27-time-series-forecasting-python-scikitlearn.html"
   ]
  },
  {
   "cell_type": "code",
   "execution_count": 43,
   "metadata": {},
   "outputs": [
    {
     "name": "stdout",
     "output_type": "stream",
     "text": [
      "vic_electricity\n",
      "---------------\n",
      "Half-hourly electricity demand for Victoria, Australia\n",
      "O'Hara-Wild M, Hyndman R, Wang E, Godahewa R (2022).tsibbledata: Diverse\n",
      "Datasets for 'tsibble'. https://tsibbledata.tidyverts.org/,\n",
      "https://github.com/tidyverts/tsibbledata/.\n",
      "https://tsibbledata.tidyverts.org/reference/vic_elec.html\n",
      "Shape of the dataset: (52608, 5)\n",
      "<class 'pandas.core.frame.DataFrame'>\n",
      "RangeIndex: 52608 entries, 0 to 52607\n",
      "Data columns (total 5 columns):\n",
      " #   Column       Non-Null Count  Dtype  \n",
      "---  ------       --------------  -----  \n",
      " 0   Time         52608 non-null  object \n",
      " 1   Demand       52608 non-null  float64\n",
      " 2   Temperature  52608 non-null  float64\n",
      " 3   Date         52608 non-null  object \n",
      " 4   Holiday      52608 non-null  bool   \n",
      "dtypes: bool(1), float64(2), object(2)\n",
      "memory usage: 1.7+ MB\n"
     ]
    }
   ],
   "source": [
    "data = fetch_dataset(name='vic_electricity', raw=True)\n",
    "data.info()"
   ]
  },
  {
   "cell_type": "code",
   "execution_count": 44,
   "metadata": {},
   "outputs": [
    {
     "data": {
      "text/html": [
       "<div>\n",
       "<style scoped>\n",
       "    .dataframe tbody tr th:only-of-type {\n",
       "        vertical-align: middle;\n",
       "    }\n",
       "\n",
       "    .dataframe tbody tr th {\n",
       "        vertical-align: top;\n",
       "    }\n",
       "\n",
       "    .dataframe thead th {\n",
       "        text-align: right;\n",
       "    }\n",
       "</style>\n",
       "<table border=\"1\" class=\"dataframe\">\n",
       "  <thead>\n",
       "    <tr style=\"text-align: right;\">\n",
       "      <th></th>\n",
       "      <th>Time</th>\n",
       "      <th>Demand</th>\n",
       "      <th>Temperature</th>\n",
       "      <th>Date</th>\n",
       "      <th>Holiday</th>\n",
       "    </tr>\n",
       "  </thead>\n",
       "  <tbody>\n",
       "    <tr>\n",
       "      <th>0</th>\n",
       "      <td>2011-12-31T13:00:00Z</td>\n",
       "      <td>4382.825174</td>\n",
       "      <td>21.40</td>\n",
       "      <td>2012-01-01</td>\n",
       "      <td>True</td>\n",
       "    </tr>\n",
       "    <tr>\n",
       "      <th>1</th>\n",
       "      <td>2011-12-31T13:30:00Z</td>\n",
       "      <td>4263.365526</td>\n",
       "      <td>21.05</td>\n",
       "      <td>2012-01-01</td>\n",
       "      <td>True</td>\n",
       "    </tr>\n",
       "    <tr>\n",
       "      <th>2</th>\n",
       "      <td>2011-12-31T14:00:00Z</td>\n",
       "      <td>4048.966046</td>\n",
       "      <td>20.70</td>\n",
       "      <td>2012-01-01</td>\n",
       "      <td>True</td>\n",
       "    </tr>\n",
       "    <tr>\n",
       "      <th>3</th>\n",
       "      <td>2011-12-31T14:30:00Z</td>\n",
       "      <td>3877.563330</td>\n",
       "      <td>20.55</td>\n",
       "      <td>2012-01-01</td>\n",
       "      <td>True</td>\n",
       "    </tr>\n",
       "    <tr>\n",
       "      <th>4</th>\n",
       "      <td>2011-12-31T15:00:00Z</td>\n",
       "      <td>4036.229746</td>\n",
       "      <td>20.40</td>\n",
       "      <td>2012-01-01</td>\n",
       "      <td>True</td>\n",
       "    </tr>\n",
       "    <tr>\n",
       "      <th>...</th>\n",
       "      <td>...</td>\n",
       "      <td>...</td>\n",
       "      <td>...</td>\n",
       "      <td>...</td>\n",
       "      <td>...</td>\n",
       "    </tr>\n",
       "    <tr>\n",
       "      <th>52603</th>\n",
       "      <td>2014-12-31T10:30:00Z</td>\n",
       "      <td>3873.448714</td>\n",
       "      <td>19.00</td>\n",
       "      <td>2014-12-31</td>\n",
       "      <td>False</td>\n",
       "    </tr>\n",
       "    <tr>\n",
       "      <th>52604</th>\n",
       "      <td>2014-12-31T11:00:00Z</td>\n",
       "      <td>3791.637322</td>\n",
       "      <td>18.50</td>\n",
       "      <td>2014-12-31</td>\n",
       "      <td>False</td>\n",
       "    </tr>\n",
       "    <tr>\n",
       "      <th>52605</th>\n",
       "      <td>2014-12-31T11:30:00Z</td>\n",
       "      <td>3724.835666</td>\n",
       "      <td>17.70</td>\n",
       "      <td>2014-12-31</td>\n",
       "      <td>False</td>\n",
       "    </tr>\n",
       "    <tr>\n",
       "      <th>52606</th>\n",
       "      <td>2014-12-31T12:00:00Z</td>\n",
       "      <td>3761.886854</td>\n",
       "      <td>17.30</td>\n",
       "      <td>2014-12-31</td>\n",
       "      <td>False</td>\n",
       "    </tr>\n",
       "    <tr>\n",
       "      <th>52607</th>\n",
       "      <td>2014-12-31T12:30:00Z</td>\n",
       "      <td>3809.414586</td>\n",
       "      <td>17.10</td>\n",
       "      <td>2014-12-31</td>\n",
       "      <td>False</td>\n",
       "    </tr>\n",
       "  </tbody>\n",
       "</table>\n",
       "<p>52608 rows × 5 columns</p>\n",
       "</div>"
      ],
      "text/plain": [
       "                       Time       Demand  Temperature        Date  Holiday\n",
       "0      2011-12-31T13:00:00Z  4382.825174        21.40  2012-01-01     True\n",
       "1      2011-12-31T13:30:00Z  4263.365526        21.05  2012-01-01     True\n",
       "2      2011-12-31T14:00:00Z  4048.966046        20.70  2012-01-01     True\n",
       "3      2011-12-31T14:30:00Z  3877.563330        20.55  2012-01-01     True\n",
       "4      2011-12-31T15:00:00Z  4036.229746        20.40  2012-01-01     True\n",
       "...                     ...          ...          ...         ...      ...\n",
       "52603  2014-12-31T10:30:00Z  3873.448714        19.00  2014-12-31    False\n",
       "52604  2014-12-31T11:00:00Z  3791.637322        18.50  2014-12-31    False\n",
       "52605  2014-12-31T11:30:00Z  3724.835666        17.70  2014-12-31    False\n",
       "52606  2014-12-31T12:00:00Z  3761.886854        17.30  2014-12-31    False\n",
       "52607  2014-12-31T12:30:00Z  3809.414586        17.10  2014-12-31    False\n",
       "\n",
       "[52608 rows x 5 columns]"
      ]
     },
     "execution_count": 44,
     "metadata": {},
     "output_type": "execute_result"
    }
   ],
   "source": [
    "data"
   ]
  },
  {
   "cell_type": "code",
   "execution_count": 40,
   "metadata": {},
   "outputs": [
    {
     "data": {
      "text/html": [
       "<div>\n",
       "<style scoped>\n",
       "    .dataframe tbody tr th:only-of-type {\n",
       "        vertical-align: middle;\n",
       "    }\n",
       "\n",
       "    .dataframe tbody tr th {\n",
       "        vertical-align: top;\n",
       "    }\n",
       "\n",
       "    .dataframe thead th {\n",
       "        text-align: right;\n",
       "    }\n",
       "</style>\n",
       "<table border=\"1\" class=\"dataframe\">\n",
       "  <thead>\n",
       "    <tr style=\"text-align: right;\">\n",
       "      <th></th>\n",
       "      <th>Demand</th>\n",
       "      <th>Temperature</th>\n",
       "      <th>Date</th>\n",
       "      <th>Holiday</th>\n",
       "    </tr>\n",
       "    <tr>\n",
       "      <th>Time</th>\n",
       "      <th></th>\n",
       "      <th></th>\n",
       "      <th></th>\n",
       "      <th></th>\n",
       "    </tr>\n",
       "  </thead>\n",
       "  <tbody>\n",
       "    <tr>\n",
       "      <th>2011-12-31 13:00:00</th>\n",
       "      <td>4382.825174</td>\n",
       "      <td>21.40</td>\n",
       "      <td>2012-01-01</td>\n",
       "      <td>True</td>\n",
       "    </tr>\n",
       "    <tr>\n",
       "      <th>2011-12-31 13:30:00</th>\n",
       "      <td>4263.365526</td>\n",
       "      <td>21.05</td>\n",
       "      <td>2012-01-01</td>\n",
       "      <td>True</td>\n",
       "    </tr>\n",
       "    <tr>\n",
       "      <th>2011-12-31 14:00:00</th>\n",
       "      <td>4048.966046</td>\n",
       "      <td>20.70</td>\n",
       "      <td>2012-01-01</td>\n",
       "      <td>True</td>\n",
       "    </tr>\n",
       "    <tr>\n",
       "      <th>2011-12-31 14:30:00</th>\n",
       "      <td>3877.563330</td>\n",
       "      <td>20.55</td>\n",
       "      <td>2012-01-01</td>\n",
       "      <td>True</td>\n",
       "    </tr>\n",
       "  </tbody>\n",
       "</table>\n",
       "</div>"
      ],
      "text/plain": [
       "                          Demand  Temperature        Date  Holiday\n",
       "Time                                                              \n",
       "2011-12-31 13:00:00  4382.825174        21.40  2012-01-01     True\n",
       "2011-12-31 13:30:00  4263.365526        21.05  2012-01-01     True\n",
       "2011-12-31 14:00:00  4048.966046        20.70  2012-01-01     True\n",
       "2011-12-31 14:30:00  3877.563330        20.55  2012-01-01     True"
      ]
     },
     "execution_count": 40,
     "metadata": {},
     "output_type": "execute_result"
    }
   ],
   "source": [
    "# Data preparation\n",
    "# ==============================================================================\n",
    "data = data.copy()\n",
    "data['Time'] = pd.to_datetime(data['Time'], format='%Y-%m-%dT%H:%M:%SZ')\n",
    "data = data.set_index('Time') # use time as index\n",
    "data = data.asfreq('30min').ffill() # chunch as 30min time resolution and forward fill missing data\n",
    "data = data.sort_index() # sort by time order\n",
    "data.head(4)"
   ]
  },
  {
   "cell_type": "code",
   "execution_count": 10,
   "metadata": {},
   "outputs": [
    {
     "data": {
      "text/html": [
       "<div>\n",
       "<style scoped>\n",
       "    .dataframe tbody tr th:only-of-type {\n",
       "        vertical-align: middle;\n",
       "    }\n",
       "\n",
       "    .dataframe tbody tr th {\n",
       "        vertical-align: top;\n",
       "    }\n",
       "\n",
       "    .dataframe thead th {\n",
       "        text-align: right;\n",
       "    }\n",
       "</style>\n",
       "<table border=\"1\" class=\"dataframe\">\n",
       "  <thead>\n",
       "    <tr style=\"text-align: right;\">\n",
       "      <th></th>\n",
       "      <th>Demand</th>\n",
       "      <th>Temperature</th>\n",
       "      <th>Holiday</th>\n",
       "    </tr>\n",
       "    <tr>\n",
       "      <th>Time</th>\n",
       "      <th></th>\n",
       "      <th></th>\n",
       "      <th></th>\n",
       "    </tr>\n",
       "  </thead>\n",
       "  <tbody>\n",
       "    <tr>\n",
       "      <th>2011-12-31 14:00:00</th>\n",
       "      <td>4323.095350</td>\n",
       "      <td>21.225</td>\n",
       "      <td>1.0</td>\n",
       "    </tr>\n",
       "    <tr>\n",
       "      <th>2011-12-31 15:00:00</th>\n",
       "      <td>3963.264688</td>\n",
       "      <td>20.625</td>\n",
       "      <td>1.0</td>\n",
       "    </tr>\n",
       "    <tr>\n",
       "      <th>2011-12-31 16:00:00</th>\n",
       "      <td>3950.913495</td>\n",
       "      <td>20.325</td>\n",
       "      <td>1.0</td>\n",
       "    </tr>\n",
       "    <tr>\n",
       "      <th>2011-12-31 17:00:00</th>\n",
       "      <td>3627.860675</td>\n",
       "      <td>19.850</td>\n",
       "      <td>1.0</td>\n",
       "    </tr>\n",
       "  </tbody>\n",
       "</table>\n",
       "</div>"
      ],
      "text/plain": [
       "                          Demand  Temperature  Holiday\n",
       "Time                                                  \n",
       "2011-12-31 14:00:00  4323.095350       21.225      1.0\n",
       "2011-12-31 15:00:00  3963.264688       20.625      1.0\n",
       "2011-12-31 16:00:00  3950.913495       20.325      1.0\n",
       "2011-12-31 17:00:00  3627.860675       19.850      1.0"
      ]
     },
     "execution_count": 10,
     "metadata": {},
     "output_type": "execute_result"
    }
   ],
   "source": [
    "# Aggregating in 1H intervals\n",
    "# ==============================================================================\n",
    "# The Date column is eliminated so that it does not generate an error when aggregating.\n",
    "\n",
    "data = (\n",
    "    data\n",
    "    .resample(rule=\"h\", closed=\"left\", label=\"right\")\n",
    "    .agg({\n",
    "        \"Demand\": \"mean\",\n",
    "        \"Temperature\": \"mean\",\n",
    "        \"Holiday\": \"mean\",\n",
    "    })\n",
    ")\n",
    "data.head(4)"
   ]
  },
  {
   "cell_type": "code",
   "execution_count": 11,
   "metadata": {},
   "outputs": [
    {
     "data": {
      "text/html": [
       "<div>\n",
       "<style scoped>\n",
       "    .dataframe tbody tr th:only-of-type {\n",
       "        vertical-align: middle;\n",
       "    }\n",
       "\n",
       "    .dataframe tbody tr th {\n",
       "        vertical-align: top;\n",
       "    }\n",
       "\n",
       "    .dataframe thead th {\n",
       "        text-align: right;\n",
       "    }\n",
       "</style>\n",
       "<table border=\"1\" class=\"dataframe\">\n",
       "  <thead>\n",
       "    <tr style=\"text-align: right;\">\n",
       "      <th></th>\n",
       "      <th>Demand</th>\n",
       "      <th>Temperature</th>\n",
       "      <th>Holiday</th>\n",
       "    </tr>\n",
       "    <tr>\n",
       "      <th>Time</th>\n",
       "      <th></th>\n",
       "      <th></th>\n",
       "      <th></th>\n",
       "    </tr>\n",
       "  </thead>\n",
       "  <tbody>\n",
       "    <tr>\n",
       "      <th>2014-12-31 09:00:00</th>\n",
       "      <td>4069.625550</td>\n",
       "      <td>21.60</td>\n",
       "      <td>0.0</td>\n",
       "    </tr>\n",
       "    <tr>\n",
       "      <th>2014-12-31 10:00:00</th>\n",
       "      <td>3909.230704</td>\n",
       "      <td>20.30</td>\n",
       "      <td>0.0</td>\n",
       "    </tr>\n",
       "    <tr>\n",
       "      <th>2014-12-31 11:00:00</th>\n",
       "      <td>3900.600901</td>\n",
       "      <td>19.65</td>\n",
       "      <td>0.0</td>\n",
       "    </tr>\n",
       "    <tr>\n",
       "      <th>2014-12-31 12:00:00</th>\n",
       "      <td>3758.236494</td>\n",
       "      <td>18.10</td>\n",
       "      <td>0.0</td>\n",
       "    </tr>\n",
       "    <tr>\n",
       "      <th>2014-12-31 13:00:00</th>\n",
       "      <td>3785.650720</td>\n",
       "      <td>17.20</td>\n",
       "      <td>0.0</td>\n",
       "    </tr>\n",
       "  </tbody>\n",
       "</table>\n",
       "</div>"
      ],
      "text/plain": [
       "                          Demand  Temperature  Holiday\n",
       "Time                                                  \n",
       "2014-12-31 09:00:00  4069.625550        21.60      0.0\n",
       "2014-12-31 10:00:00  3909.230704        20.30      0.0\n",
       "2014-12-31 11:00:00  3900.600901        19.65      0.0\n",
       "2014-12-31 12:00:00  3758.236494        18.10      0.0\n",
       "2014-12-31 13:00:00  3785.650720        17.20      0.0"
      ]
     },
     "execution_count": 11,
     "metadata": {},
     "output_type": "execute_result"
    }
   ],
   "source": [
    "data.tail()"
   ]
  },
  {
   "cell_type": "code",
   "execution_count": 12,
   "metadata": {},
   "outputs": [
    {
     "name": "stdout",
     "output_type": "stream",
     "text": [
      "Train dates      : 2011-12-31 14:00:00 --- 2013-12-31 23:00:00  (n=17554)\n",
      "Validation dates : 2014-01-01 00:00:00 --- 2014-11-30 23:00:00  (n=8016)\n",
      "Test dates       : 2014-12-01 00:00:00 --- 2014-12-31 13:00:00  (n=734)\n"
     ]
    }
   ],
   "source": [
    "# Split data into train-val-test set\n",
    "# Note that \"loc\" function includes both the start and the stop are included\n",
    "end_train = '2013-12-31 23:59:00'\n",
    "start_val = '2014-01-01 00:00:00'\n",
    "end_validation = '2014-11-30 23:59:00'\n",
    "start_test = '2014-12-01 00:00:00'\n",
    "\n",
    "\n",
    "data_train = data.loc[: end_train, :].copy()\n",
    "data_val   = data.loc[start_val:end_validation, :].copy()\n",
    "data_test  = data.loc[start_test: , :].copy()\n",
    "\n",
    "print(f\"Train dates      : {data_train.index.min()} --- {data_train.index.max()}  (n={len(data_train)})\")\n",
    "print(f\"Validation dates : {data_val.index.min()} --- {data_val.index.max()}  (n={len(data_val)})\")\n",
    "print(f\"Test dates       : {data_test.index.min()} --- {data_test.index.max()}  (n={len(data_test)})\")\n",
    "\n"
   ]
  },
  {
   "cell_type": "code",
   "execution_count": 13,
   "metadata": {},
   "outputs": [
    {
     "data": {
      "text/html": [
       "<div>\n",
       "<style scoped>\n",
       "    .dataframe tbody tr th:only-of-type {\n",
       "        vertical-align: middle;\n",
       "    }\n",
       "\n",
       "    .dataframe tbody tr th {\n",
       "        vertical-align: top;\n",
       "    }\n",
       "\n",
       "    .dataframe thead th {\n",
       "        text-align: right;\n",
       "    }\n",
       "</style>\n",
       "<table border=\"1\" class=\"dataframe\">\n",
       "  <thead>\n",
       "    <tr style=\"text-align: right;\">\n",
       "      <th></th>\n",
       "      <th>Demand</th>\n",
       "      <th>Temperature</th>\n",
       "      <th>Holiday</th>\n",
       "    </tr>\n",
       "    <tr>\n",
       "      <th>Time</th>\n",
       "      <th></th>\n",
       "      <th></th>\n",
       "      <th></th>\n",
       "    </tr>\n",
       "  </thead>\n",
       "  <tbody>\n",
       "    <tr>\n",
       "      <th>2011-12-31 14:00:00</th>\n",
       "      <td>4323.095350</td>\n",
       "      <td>21.225</td>\n",
       "      <td>1.0</td>\n",
       "    </tr>\n",
       "    <tr>\n",
       "      <th>2011-12-31 15:00:00</th>\n",
       "      <td>3963.264688</td>\n",
       "      <td>20.625</td>\n",
       "      <td>1.0</td>\n",
       "    </tr>\n",
       "    <tr>\n",
       "      <th>2011-12-31 16:00:00</th>\n",
       "      <td>3950.913495</td>\n",
       "      <td>20.325</td>\n",
       "      <td>1.0</td>\n",
       "    </tr>\n",
       "    <tr>\n",
       "      <th>2011-12-31 17:00:00</th>\n",
       "      <td>3627.860675</td>\n",
       "      <td>19.850</td>\n",
       "      <td>1.0</td>\n",
       "    </tr>\n",
       "    <tr>\n",
       "      <th>2011-12-31 18:00:00</th>\n",
       "      <td>3396.251676</td>\n",
       "      <td>19.025</td>\n",
       "      <td>1.0</td>\n",
       "    </tr>\n",
       "  </tbody>\n",
       "</table>\n",
       "</div>"
      ],
      "text/plain": [
       "                          Demand  Temperature  Holiday\n",
       "Time                                                  \n",
       "2011-12-31 14:00:00  4323.095350       21.225      1.0\n",
       "2011-12-31 15:00:00  3963.264688       20.625      1.0\n",
       "2011-12-31 16:00:00  3950.913495       20.325      1.0\n",
       "2011-12-31 17:00:00  3627.860675       19.850      1.0\n",
       "2011-12-31 18:00:00  3396.251676       19.025      1.0"
      ]
     },
     "execution_count": 13,
     "metadata": {},
     "output_type": "execute_result"
    }
   ],
   "source": [
    "data_train.head(5)"
   ]
  },
  {
   "cell_type": "code",
   "execution_count": 45,
   "metadata": {},
   "outputs": [
    {
     "data": {
      "text/plain": [
       "<matplotlib.legend.Legend at 0x7fcfcc76a750>"
      ]
     },
     "execution_count": 45,
     "metadata": {},
     "output_type": "execute_result"
    },
    {
     "data": {
      "image/png": "[encoded data removed]",
      "text/plain": [
       "<Figure size 600x250 with 1 Axes>"
      ]
     },
     "metadata": {},
     "output_type": "display_data"
    }
   ],
   "source": [
    "fig, ax = plt.subplots(figsize=(6, 2.5))\n",
    "data_train['Demand'].plot(ax=ax, label='train')\n",
    "data_val['Demand'].plot(ax=ax, label='val')\n",
    "data_test['Demand'].plot(ax=ax, label='test')\n",
    "ax.legend()"
   ]
  },
  {
   "cell_type": "markdown",
   "metadata": {},
   "source": [
    "## Using ForeecasterAutoreg class to build model and"
   ]
  },
  {
   "cell_type": "code",
   "execution_count": 27,
   "metadata": {},
   "outputs": [
    {
     "data": {
      "text/plain": [
       "================= \n",
       "ForecasterAutoreg \n",
       "================= \n",
       "Regressor: RandomForestRegressor(random_state=123) \n",
       "Lags: [1 2 3 4 5 6] \n",
       "Transformer for y: None \n",
       "Transformer for exog: None \n",
       "Window size: 6 \n",
       "Weight function included: False \n",
       "Differentiation order: None \n",
       "Exogenous included: False \n",
       "Exogenous variables names: None \n",
       "Training range: [Timestamp('2011-12-31 14:00:00'), Timestamp('2013-12-31 23:00:00')] \n",
       "Training index type: DatetimeIndex \n",
       "Training index frequency: h \n",
       "Regressor parameters: {'bootstrap': True, 'ccp_alpha': 0.0, 'criterion': 'squared_error', 'max_depth': None, 'max_features': 1.0, 'max_leaf_nodes': None, 'max_samples': None, 'min_impurity_decrease': 0.0, 'min_samples_leaf': 1, 'min_samples_split': 2, 'min_weight_fraction_leaf': 0.0, 'monotonic_cst': None, 'n_estimators': 100, 'n_jobs': None, 'oob_score': False, 'random_state': 123, 'verbose': 0, 'warm_start': False} \n",
       "fit_kwargs: {} \n",
       "Creation date: 2024-09-18 16:33:04 \n",
       "Last fit date: 2024-09-18 16:33:16 \n",
       "Skforecast version: 0.13.0 \n",
       "Python version: 3.12.5 \n",
       "Forecaster id: None "
      ]
     },
     "execution_count": 27,
     "metadata": {},
     "output_type": "execute_result"
    }
   ],
   "source": [
    "\n",
    "\n",
    "# Modeling and Forecasting\n",
    "# ==============================================================================\n",
    "import sklearn\n",
    "from sklearn.linear_model import Ridge\n",
    "from sklearn.ensemble import RandomForestRegressor\n",
    "from sklearn.metrics import mean_squared_error\n",
    "from sklearn.metrics import mean_absolute_error\n",
    "from sklearn.preprocessing import StandardScaler\n",
    "import skforecast\n",
    "from skforecast.ForecasterAutoreg import ForecasterAutoreg\n",
    "from skforecast.ForecasterAutoregCustom import ForecasterAutoregCustom\n",
    "from skforecast.ForecasterAutoregDirect import ForecasterAutoregDirect\n",
    "from skforecast.model_selection import grid_search_forecaster\n",
    "from skforecast.model_selection import backtesting_forecaster\n",
    "from skforecast.utils import save_forecaster\n",
    "from skforecast.utils import load_forecaster\n",
    "# import shap\n",
    "\n",
    "\n",
    "# Create and train forecaster\n",
    "# ==============================================================================\n",
    "forecaster = ForecasterAutoreg(\n",
    "                 regressor = RandomForestRegressor(random_state=123),\n",
    "                 lags      = 6\n",
    "             )\n",
    "forecaster.fit(y=data_train['Demand'])\n",
    "forecaster"
   ]
  },
  {
   "cell_type": "code",
   "execution_count": 35,
   "metadata": {},
   "outputs": [
    {
     "data": {
      "text/plain": [
       "2014-01-01 00:00:00    3645.269572\n",
       "2014-01-01 01:00:00    3811.783441\n",
       "2014-01-01 02:00:00    3899.029980\n",
       "2014-01-01 03:00:00    3901.795102\n",
       "2014-01-01 04:00:00    3896.856000\n",
       "Freq: h, Name: pred, dtype: float64"
      ]
     },
     "execution_count": 35,
     "metadata": {},
     "output_type": "execute_result"
    }
   ],
   "source": [
    "# Predictions on validation set , here we predict the 0th to 1000th data point in the validationset, not using all the validation set (becasue the result is very off for long-term prediction) \n",
    "# ==============================================================================\n",
    "num_data_pred = 500\n",
    "steps = len(data_val['Demand'][:num_data_pred])\n",
    "predictions = forecaster.predict(steps=steps)\n",
    "predictions.head(5)"
   ]
  },
  {
   "cell_type": "code",
   "execution_count": 37,
   "metadata": {},
   "outputs": [
    {
     "data": {
      "text/plain": [
       "<matplotlib.legend.Legend at 0x7fcfce1a48f0>"
      ]
     },
     "execution_count": 37,
     "metadata": {},
     "output_type": "execute_result"
    },
    {
     "data": {
      "image/png": "[encoded data removed]",
      "text/plain": [
       "<Figure size 600x250 with 1 Axes>"
      ]
     },
     "metadata": {},
     "output_type": "display_data"
    }
   ],
   "source": [
    "# Plot predictions versus test data\n",
    "# ==============================================================================\n",
    "fig, ax = plt.subplots(figsize=(6, 2.5))\n",
    "data_train['Demand'][-500:].plot(ax=ax, label='train')\n",
    "data_val['Demand'][:num_data_pred].plot(ax=ax, label='val')\n",
    "predictions.plot(ax=ax, label='val predictions')\n",
    "ax.legend()"
   ]
  },
  {
   "cell_type": "code",
   "execution_count": null,
   "metadata": {},
   "outputs": [],
   "source": []
  }
 ],
 "metadata": {
  "kernelspec": {
   "display_name": "reza_env",
   "language": "python",
   "name": "python3"
  },
  "language_info": {
   "codemirror_mode": {
    "name": "ipython",
    "version": 3
   },
   "file_extension": ".py",
   "mimetype": "text/x-python",
   "name": "python",
   "nbconvert_exporter": "python",
   "pygments_lexer": "ipython3",
   "version": "3.12.5"
  }
 },
 "nbformat": 4,
 "nbformat_minor": 2
}
