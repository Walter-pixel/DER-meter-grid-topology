{
 "cells": [
  {
   "cell_type": "code",
   "execution_count": 2,
   "metadata": {},
   "outputs": [
    {
     "data": {
      "text/html": [
       "        <script type=\"text/javascript\">\n",
       "        window.PlotlyConfig = {MathJaxConfig: 'local'};\n",
       "        if (window.MathJax && window.MathJax.Hub && window.MathJax.Hub.Config) {window.MathJax.Hub.Config({SVG: {font: \"STIX-Web\"}});}\n",
       "        if (typeof require !== 'undefined') {\n",
       "        require.undef(\"plotly\");\n",
       "        requirejs.config({\n",
       "            paths: {\n",
       "                'plotly': ['https://cdn.plot.ly/plotly-2.35.2.min']\n",
       "            }\n",
       "        });\n",
       "        require(['plotly'], function(Plotly) {\n",
       "            window._Plotly = Plotly;\n",
       "        });\n",
       "        }\n",
       "        </script>\n",
       "        "
      ]
     },
     "metadata": {},
     "output_type": "display_data"
    },
    {
     "name": "stderr",
     "output_type": "stream",
     "text": [
      "c:\\Users\\chwen\\anaconda3\\envs\\forecast_env\\lib\\site-packages\\tqdm\\auto.py:21: TqdmWarning:\n",
      "\n",
      "IProgress not found. Please update jupyter and ipywidgets. See https://ipywidgets.readthedocs.io/en/stable/user_install.html\n",
      "\n"
     ]
    }
   ],
   "source": [
    "# Data manipulation\n",
    "# ==============================================================================\n",
    "import numpy as np\n",
    "import pandas as pd\n",
    "# from astral.sun import sun\n",
    "# from astral import LocationInfo\n",
    "from skforecast.datasets import fetch_dataset\n",
    "import seaborn as sns\n",
    "\n",
    "# Plots\n",
    "# ==============================================================================\n",
    "import matplotlib.pyplot as plt\n",
    "from statsmodels.graphics.tsaplots import plot_acf\n",
    "from statsmodels.graphics.tsaplots import plot_pacf\n",
    "from skforecast.plot import plot_residuals\n",
    "import plotly.graph_objects as go\n",
    "import plotly.io as pio\n",
    "import plotly.offline as poff\n",
    "pio.templates.default = \"seaborn\"\n",
    "poff.init_notebook_mode(connected=True)\n",
    "plt.style.use('seaborn-v0_8-darkgrid')\n",
    "plt.rcParams.update({'font.size':8})\n",
    "\n",
    "# Modelling and Forecasting\n",
    "# ==============================================================================\n",
    "import skforecast\n",
    "import lightgbm\n",
    "import sklearn\n",
    "from lightgbm import LGBMRegressor\n",
    "from sklearn.preprocessing import PolynomialFeatures\n",
    "from sklearn.feature_selection import RFECV\n",
    "from skforecast.ForecasterBaseline import ForecasterEquivalentDate\n",
    "from skforecast.ForecasterAutoreg import ForecasterAutoreg\n",
    "from skforecast.ForecasterAutoregDirect import ForecasterAutoregDirect\n",
    "from skforecast.model_selection import bayesian_search_forecaster\n",
    "from skforecast.model_selection import backtesting_forecaster\n",
    "from skforecast.model_selection import select_features\n",
    "# import shap"
   ]
  },
  {
   "cell_type": "code",
   "execution_count": 3,
   "metadata": {},
   "outputs": [
    {
     "name": "stdout",
     "output_type": "stream",
     "text": [
      "vic_electricity\n",
      "---------------\n",
      "Half-hourly electricity demand for Victoria, Australia\n",
      "O'Hara-Wild M, Hyndman R, Wang E, Godahewa R (2022).tsibbledata: Diverse\n",
      "Datasets for 'tsibble'. https://tsibbledata.tidyverts.org/,\n",
      "https://github.com/tidyverts/tsibbledata/.\n",
      "https://tsibbledata.tidyverts.org/reference/vic_elec.html\n",
      "Shape of the dataset: (52608, 5)\n",
      "<class 'pandas.core.frame.DataFrame'>\n",
      "RangeIndex: 52608 entries, 0 to 52607\n",
      "Data columns (total 5 columns):\n",
      " #   Column       Non-Null Count  Dtype  \n",
      "---  ------       --------------  -----  \n",
      " 0   Time         52608 non-null  object \n",
      " 1   Demand       52608 non-null  float64\n",
      " 2   Temperature  52608 non-null  float64\n",
      " 3   Date         52608 non-null  object \n",
      " 4   Holiday      52608 non-null  bool   \n",
      "dtypes: bool(1), float64(2), object(2)\n",
      "memory usage: 1.7+ MB\n"
     ]
    }
   ],
   "source": [
    "# Data download\n",
    "# ==============================================================================\n",
    "data = fetch_dataset(name='vic_electricity', raw=True)\n",
    "data.info()"
   ]
  },
  {
   "cell_type": "code",
   "execution_count": 4,
   "metadata": {},
   "outputs": [
    {
     "data": {
      "text/html": [
       "<div>\n",
       "<style scoped>\n",
       "    .dataframe tbody tr th:only-of-type {\n",
       "        vertical-align: middle;\n",
       "    }\n",
       "\n",
       "    .dataframe tbody tr th {\n",
       "        vertical-align: top;\n",
       "    }\n",
       "\n",
       "    .dataframe thead th {\n",
       "        text-align: right;\n",
       "    }\n",
       "</style>\n",
       "<table border=\"1\" class=\"dataframe\">\n",
       "  <thead>\n",
       "    <tr style=\"text-align: right;\">\n",
       "      <th></th>\n",
       "      <th>Time</th>\n",
       "      <th>Demand</th>\n",
       "      <th>Temperature</th>\n",
       "      <th>Date</th>\n",
       "      <th>Holiday</th>\n",
       "    </tr>\n",
       "  </thead>\n",
       "  <tbody>\n",
       "    <tr>\n",
       "      <th>0</th>\n",
       "      <td>2011-12-31T13:00:00Z</td>\n",
       "      <td>4382.825174</td>\n",
       "      <td>21.40</td>\n",
       "      <td>2012-01-01</td>\n",
       "      <td>True</td>\n",
       "    </tr>\n",
       "    <tr>\n",
       "      <th>1</th>\n",
       "      <td>2011-12-31T13:30:00Z</td>\n",
       "      <td>4263.365526</td>\n",
       "      <td>21.05</td>\n",
       "      <td>2012-01-01</td>\n",
       "      <td>True</td>\n",
       "    </tr>\n",
       "    <tr>\n",
       "      <th>2</th>\n",
       "      <td>2011-12-31T14:00:00Z</td>\n",
       "      <td>4048.966046</td>\n",
       "      <td>20.70</td>\n",
       "      <td>2012-01-01</td>\n",
       "      <td>True</td>\n",
       "    </tr>\n",
       "    <tr>\n",
       "      <th>3</th>\n",
       "      <td>2011-12-31T14:30:00Z</td>\n",
       "      <td>3877.563330</td>\n",
       "      <td>20.55</td>\n",
       "      <td>2012-01-01</td>\n",
       "      <td>True</td>\n",
       "    </tr>\n",
       "    <tr>\n",
       "      <th>4</th>\n",
       "      <td>2011-12-31T15:00:00Z</td>\n",
       "      <td>4036.229746</td>\n",
       "      <td>20.40</td>\n",
       "      <td>2012-01-01</td>\n",
       "      <td>True</td>\n",
       "    </tr>\n",
       "    <tr>\n",
       "      <th>...</th>\n",
       "      <td>...</td>\n",
       "      <td>...</td>\n",
       "      <td>...</td>\n",
       "      <td>...</td>\n",
       "      <td>...</td>\n",
       "    </tr>\n",
       "    <tr>\n",
       "      <th>52603</th>\n",
       "      <td>2014-12-31T10:30:00Z</td>\n",
       "      <td>3873.448714</td>\n",
       "      <td>19.00</td>\n",
       "      <td>2014-12-31</td>\n",
       "      <td>False</td>\n",
       "    </tr>\n",
       "    <tr>\n",
       "      <th>52604</th>\n",
       "      <td>2014-12-31T11:00:00Z</td>\n",
       "      <td>3791.637322</td>\n",
       "      <td>18.50</td>\n",
       "      <td>2014-12-31</td>\n",
       "      <td>False</td>\n",
       "    </tr>\n",
       "    <tr>\n",
       "      <th>52605</th>\n",
       "      <td>2014-12-31T11:30:00Z</td>\n",
       "      <td>3724.835666</td>\n",
       "      <td>17.70</td>\n",
       "      <td>2014-12-31</td>\n",
       "      <td>False</td>\n",
       "    </tr>\n",
       "    <tr>\n",
       "      <th>52606</th>\n",
       "      <td>2014-12-31T12:00:00Z</td>\n",
       "      <td>3761.886854</td>\n",
       "      <td>17.30</td>\n",
       "      <td>2014-12-31</td>\n",
       "      <td>False</td>\n",
       "    </tr>\n",
       "    <tr>\n",
       "      <th>52607</th>\n",
       "      <td>2014-12-31T12:30:00Z</td>\n",
       "      <td>3809.414586</td>\n",
       "      <td>17.10</td>\n",
       "      <td>2014-12-31</td>\n",
       "      <td>False</td>\n",
       "    </tr>\n",
       "  </tbody>\n",
       "</table>\n",
       "<p>52608 rows × 5 columns</p>\n",
       "</div>"
      ],
      "text/plain": [
       "                       Time       Demand  Temperature        Date  Holiday\n",
       "0      2011-12-31T13:00:00Z  4382.825174        21.40  2012-01-01     True\n",
       "1      2011-12-31T13:30:00Z  4263.365526        21.05  2012-01-01     True\n",
       "2      2011-12-31T14:00:00Z  4048.966046        20.70  2012-01-01     True\n",
       "3      2011-12-31T14:30:00Z  3877.563330        20.55  2012-01-01     True\n",
       "4      2011-12-31T15:00:00Z  4036.229746        20.40  2012-01-01     True\n",
       "...                     ...          ...          ...         ...      ...\n",
       "52603  2014-12-31T10:30:00Z  3873.448714        19.00  2014-12-31    False\n",
       "52604  2014-12-31T11:00:00Z  3791.637322        18.50  2014-12-31    False\n",
       "52605  2014-12-31T11:30:00Z  3724.835666        17.70  2014-12-31    False\n",
       "52606  2014-12-31T12:00:00Z  3761.886854        17.30  2014-12-31    False\n",
       "52607  2014-12-31T12:30:00Z  3809.414586        17.10  2014-12-31    False\n",
       "\n",
       "[52608 rows x 5 columns]"
      ]
     },
     "execution_count": 4,
     "metadata": {},
     "output_type": "execute_result"
    }
   ],
   "source": [
    "data"
   ]
  },
  {
   "cell_type": "code",
   "execution_count": 5,
   "metadata": {},
   "outputs": [
    {
     "data": {
      "text/html": [
       "<div>\n",
       "<style scoped>\n",
       "    .dataframe tbody tr th:only-of-type {\n",
       "        vertical-align: middle;\n",
       "    }\n",
       "\n",
       "    .dataframe tbody tr th {\n",
       "        vertical-align: top;\n",
       "    }\n",
       "\n",
       "    .dataframe thead th {\n",
       "        text-align: right;\n",
       "    }\n",
       "</style>\n",
       "<table border=\"1\" class=\"dataframe\">\n",
       "  <thead>\n",
       "    <tr style=\"text-align: right;\">\n",
       "      <th></th>\n",
       "      <th>Demand</th>\n",
       "      <th>Temperature</th>\n",
       "      <th>Date</th>\n",
       "      <th>Holiday</th>\n",
       "    </tr>\n",
       "    <tr>\n",
       "      <th>Time</th>\n",
       "      <th></th>\n",
       "      <th></th>\n",
       "      <th></th>\n",
       "      <th></th>\n",
       "    </tr>\n",
       "  </thead>\n",
       "  <tbody>\n",
       "    <tr>\n",
       "      <th>2011-12-31 13:00:00</th>\n",
       "      <td>4382.825174</td>\n",
       "      <td>21.40</td>\n",
       "      <td>2012-01-01</td>\n",
       "      <td>True</td>\n",
       "    </tr>\n",
       "    <tr>\n",
       "      <th>2011-12-31 13:30:00</th>\n",
       "      <td>4263.365526</td>\n",
       "      <td>21.05</td>\n",
       "      <td>2012-01-01</td>\n",
       "      <td>True</td>\n",
       "    </tr>\n",
       "  </tbody>\n",
       "</table>\n",
       "</div>"
      ],
      "text/plain": [
       "                          Demand  Temperature        Date  Holiday\n",
       "Time                                                              \n",
       "2011-12-31 13:00:00  4382.825174        21.40  2012-01-01     True\n",
       "2011-12-31 13:30:00  4263.365526        21.05  2012-01-01     True"
      ]
     },
     "execution_count": 5,
     "metadata": {},
     "output_type": "execute_result"
    }
   ],
   "source": [
    "# Data preparation\n",
    "# ==============================================================================\n",
    "data = data.copy()\n",
    "data['Time'] = pd.to_datetime(data['Time'], format='%Y-%m-%dT%H:%M:%SZ')\n",
    "data = data.set_index('Time')\n",
    "data = data.asfreq('30min')\n",
    "data = data.sort_index()\n",
    "data.head(2)"
   ]
  },
  {
   "cell_type": "code",
   "execution_count": 6,
   "metadata": {},
   "outputs": [
    {
     "name": "stderr",
     "output_type": "stream",
     "text": [
      "C:\\Users\\chwen\\AppData\\Local\\Temp\\ipykernel_29928\\1262957033.py:7: FutureWarning:\n",
      "\n",
      "'H' is deprecated and will be removed in a future version, please use 'h' instead.\n",
      "\n",
      "C:\\Users\\chwen\\AppData\\Local\\Temp\\ipykernel_29928\\1262957033.py:15: FutureWarning:\n",
      "\n",
      "'Y' is deprecated and will be removed in a future version, please use 'YE' instead.\n",
      "\n"
     ]
    }
   ],
   "source": [
    "\n",
    "# Aggregating in 1H intervals\n",
    "# ==============================================================================\n",
    "# The Date column is eliminated so that it does not generate an error when aggregating.\n",
    "\n",
    "df = data.drop(columns=[\"Date\",\"Holiday\"])\n",
    "df = (\n",
    "    df\n",
    "    .resample(rule=\"H\", closed=\"left\", label=\"right\")\n",
    "    .agg({\n",
    "        \"Demand\": \"mean\",\n",
    "        \"Temperature\": \"mean\",\n",
    "    })\n",
    ")\n",
    "\n",
    "df_demand = df.Demand.resample('Y').agg(['mean','median'])"
   ]
  },
  {
   "cell_type": "code",
   "execution_count": 7,
   "metadata": {},
   "outputs": [],
   "source": [
    "# df_t = df.copy()\n",
    "# df_t = df_t.resample('15min').asfreq()\n",
    "# df_t['Demand'] = df_t['Demand'].ffill()\n",
    "# df_t"
   ]
  },
  {
   "cell_type": "code",
   "execution_count": 8,
   "metadata": {},
   "outputs": [
    {
     "data": {
      "text/html": [
       "<div>\n",
       "<style scoped>\n",
       "    .dataframe tbody tr th:only-of-type {\n",
       "        vertical-align: middle;\n",
       "    }\n",
       "\n",
       "    .dataframe tbody tr th {\n",
       "        vertical-align: top;\n",
       "    }\n",
       "\n",
       "    .dataframe thead th {\n",
       "        text-align: right;\n",
       "    }\n",
       "</style>\n",
       "<table border=\"1\" class=\"dataframe\">\n",
       "  <thead>\n",
       "    <tr style=\"text-align: right;\">\n",
       "      <th></th>\n",
       "      <th>Demand</th>\n",
       "      <th>Temperature</th>\n",
       "      <th>hour</th>\n",
       "      <th>dayofweek</th>\n",
       "      <th>month</th>\n",
       "      <th>quarter</th>\n",
       "      <th>year</th>\n",
       "      <th>dayofyear</th>\n",
       "    </tr>\n",
       "    <tr>\n",
       "      <th>Time</th>\n",
       "      <th></th>\n",
       "      <th></th>\n",
       "      <th></th>\n",
       "      <th></th>\n",
       "      <th></th>\n",
       "      <th></th>\n",
       "      <th></th>\n",
       "      <th></th>\n",
       "    </tr>\n",
       "  </thead>\n",
       "  <tbody>\n",
       "    <tr>\n",
       "      <th>2011-12-31 14:00:00</th>\n",
       "      <td>4323.095350</td>\n",
       "      <td>21.225</td>\n",
       "      <td>14</td>\n",
       "      <td>5</td>\n",
       "      <td>12</td>\n",
       "      <td>4</td>\n",
       "      <td>2011</td>\n",
       "      <td>365</td>\n",
       "    </tr>\n",
       "    <tr>\n",
       "      <th>2011-12-31 15:00:00</th>\n",
       "      <td>3963.264688</td>\n",
       "      <td>20.625</td>\n",
       "      <td>15</td>\n",
       "      <td>5</td>\n",
       "      <td>12</td>\n",
       "      <td>4</td>\n",
       "      <td>2011</td>\n",
       "      <td>365</td>\n",
       "    </tr>\n",
       "    <tr>\n",
       "      <th>2011-12-31 16:00:00</th>\n",
       "      <td>3950.913495</td>\n",
       "      <td>20.325</td>\n",
       "      <td>16</td>\n",
       "      <td>5</td>\n",
       "      <td>12</td>\n",
       "      <td>4</td>\n",
       "      <td>2011</td>\n",
       "      <td>365</td>\n",
       "    </tr>\n",
       "    <tr>\n",
       "      <th>2011-12-31 17:00:00</th>\n",
       "      <td>3627.860675</td>\n",
       "      <td>19.850</td>\n",
       "      <td>17</td>\n",
       "      <td>5</td>\n",
       "      <td>12</td>\n",
       "      <td>4</td>\n",
       "      <td>2011</td>\n",
       "      <td>365</td>\n",
       "    </tr>\n",
       "    <tr>\n",
       "      <th>2011-12-31 18:00:00</th>\n",
       "      <td>3396.251676</td>\n",
       "      <td>19.025</td>\n",
       "      <td>18</td>\n",
       "      <td>5</td>\n",
       "      <td>12</td>\n",
       "      <td>4</td>\n",
       "      <td>2011</td>\n",
       "      <td>365</td>\n",
       "    </tr>\n",
       "  </tbody>\n",
       "</table>\n",
       "</div>"
      ],
      "text/plain": [
       "                          Demand  Temperature  hour  dayofweek  month  \\\n",
       "Time                                                                    \n",
       "2011-12-31 14:00:00  4323.095350       21.225    14          5     12   \n",
       "2011-12-31 15:00:00  3963.264688       20.625    15          5     12   \n",
       "2011-12-31 16:00:00  3950.913495       20.325    16          5     12   \n",
       "2011-12-31 17:00:00  3627.860675       19.850    17          5     12   \n",
       "2011-12-31 18:00:00  3396.251676       19.025    18          5     12   \n",
       "\n",
       "                     quarter  year  dayofyear  \n",
       "Time                                           \n",
       "2011-12-31 14:00:00        4  2011        365  \n",
       "2011-12-31 15:00:00        4  2011        365  \n",
       "2011-12-31 16:00:00        4  2011        365  \n",
       "2011-12-31 17:00:00        4  2011        365  \n",
       "2011-12-31 18:00:00        4  2011        365  "
      ]
     },
     "execution_count": 8,
     "metadata": {},
     "output_type": "execute_result"
    }
   ],
   "source": [
    "'''\n",
    "this is possible because earlier you have set:\n",
    "df['Time'] = pd.to_datetime(df['Time'], format='%Y-%m-%dT%H:%M:%SZ')\n",
    "df = df.set_index('Time')  <---!!!!\n",
    "'''\n",
    "\n",
    "df['hour']=df.index.hour\n",
    "df['dayofweek']=df.index.dayofweek\n",
    "df['month']=df.index.month\n",
    "df['quarter']=df.index.quarter\n",
    "df['year']=df.index.year\n",
    "df['dayofyear']=df.index.dayofyear\n",
    "df.head(5)"
   ]
  },
  {
   "cell_type": "code",
   "execution_count": 9,
   "metadata": {},
   "outputs": [
    {
     "name": "stderr",
     "output_type": "stream",
     "text": [
      "matplotlib.category INFO  Using categorical units to plot a list of strings that are all parsable as floats or dates. If these strings should be plotted as numbers, cast to the appropriate data type before plotting.\n",
      "matplotlib.category INFO  Using categorical units to plot a list of strings that are all parsable as floats or dates. If these strings should be plotted as numbers, cast to the appropriate data type before plotting.\n"
     ]
    },
    {
     "data": {
      "text/plain": [
       "Text(0.5, 1.0, 'demand group by hour')"
      ]
     },
     "execution_count": 9,
     "metadata": {},
     "output_type": "execute_result"
    },
    {
     "data": {
      "image/png": "[encoded data removed]",
      "text/plain": [
       "<Figure size 640x480 with 1 Axes>"
      ]
     },
     "metadata": {},
     "output_type": "display_data"
    }
   ],
   "source": [
    "\n",
    "sns.boxplot(data=df,x='hour',y='Demand').set_title(\"demand group by hour\") # data grouping by hour\n"
   ]
  },
  {
   "cell_type": "code",
   "execution_count": 10,
   "metadata": {},
   "outputs": [
    {
     "name": "stderr",
     "output_type": "stream",
     "text": [
      "matplotlib.category INFO  Using categorical units to plot a list of strings that are all parsable as floats or dates. If these strings should be plotted as numbers, cast to the appropriate data type before plotting.\n",
      "matplotlib.category INFO  Using categorical units to plot a list of strings that are all parsable as floats or dates. If these strings should be plotted as numbers, cast to the appropriate data type before plotting.\n"
     ]
    },
    {
     "data": {
      "text/plain": [
       "Text(0.5, 1.0, 'demand group by month')"
      ]
     },
     "execution_count": 10,
     "metadata": {},
     "output_type": "execute_result"
    },
    {
     "data": {
      "image/png": "[encoded data removed]",
      "text/plain": [
       "<Figure size 640x480 with 1 Axes>"
      ]
     },
     "metadata": {},
     "output_type": "display_data"
    }
   ],
   "source": [
    "sns.boxplot(data=df,x='month',y='Demand').set_title(\"demand group by month\") # data grouping by month\n"
   ]
  },
  {
   "cell_type": "code",
   "execution_count": 11,
   "metadata": {},
   "outputs": [
    {
     "name": "stderr",
     "output_type": "stream",
     "text": [
      "matplotlib.category INFO  Using categorical units to plot a list of strings that are all parsable as floats or dates. If these strings should be plotted as numbers, cast to the appropriate data type before plotting.\n"
     ]
    },
    {
     "name": "stderr",
     "output_type": "stream",
     "text": [
      "matplotlib.category INFO  Using categorical units to plot a list of strings that are all parsable as floats or dates. If these strings should be plotted as numbers, cast to the appropriate data type before plotting.\n"
     ]
    },
    {
     "data": {
      "text/plain": [
       "Text(0.5, 1.0, 'demand group by quarter')"
      ]
     },
     "execution_count": 11,
     "metadata": {},
     "output_type": "execute_result"
    },
    {
     "data": {
      "image/png": "[encoded data removed]",
      "text/plain": [
       "<Figure size 640x480 with 1 Axes>"
      ]
     },
     "metadata": {},
     "output_type": "display_data"
    }
   ],
   "source": [
    "sns.boxplot(data=df,x='quarter',y='Demand').set_title(\"demand group by quarter\") # data grouping by quarter"
   ]
  },
  {
   "cell_type": "code",
   "execution_count": null,
   "metadata": {},
   "outputs": [],
   "source": []
  },
  {
   "cell_type": "code",
   "execution_count": null,
   "metadata": {},
   "outputs": [],
   "source": []
  },
  {
   "cell_type": "code",
   "execution_count": null,
   "metadata": {},
   "outputs": [],
   "source": []
  }
 ],
 "metadata": {
  "kernelspec": {
   "display_name": "forecast_env",
   "language": "python",
   "name": "python3"
  },
  "language_info": {
   "codemirror_mode": {
    "name": "ipython",
    "version": 3
   },
   "file_extension": ".py",
   "mimetype": "text/x-python",
   "name": "python",
   "nbconvert_exporter": "python",
   "pygments_lexer": "ipython3",
   "version": "3.10.14"
  }
 },
 "nbformat": 4,
 "nbformat_minor": 2
}
